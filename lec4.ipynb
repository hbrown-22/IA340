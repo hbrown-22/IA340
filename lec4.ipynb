{
 "cells": [
  {
   "cell_type": "code",
   "execution_count": 29,
   "id": "1dd532c2",
   "metadata": {},
   "outputs": [],
   "source": [
    "import pandas\n",
    "import configparser\n",
    "import psycopg2"
   ]
  },
  {
   "cell_type": "code",
   "execution_count": 35,
   "id": "1b75c55c",
   "metadata": {},
   "outputs": [],
   "source": [
    "config = configparser.ConfigParser()\n",
    "config.read('config.ini')\n",
    "\n",
    "host = config['myaws']['host']\n",
    "db = config['myaws']['db']\n",
    "user = config['myaws']['user']\n",
    "pwd = config['myaws']['pwd']\n"
   ]
  },
  {
   "cell_type": "code",
   "execution_count": 36,
   "id": "da542627",
   "metadata": {},
   "outputs": [],
   "source": [
    "conn = psycopg2.connect(\n",
    "                        host = host, \n",
    "                        user = user, \n",
    "                        password = pwd, \n",
    "                        dbname = db)"
   ]
  },
  {
   "cell_type": "code",
   "execution_count": 37,
   "id": "c85cdacc",
   "metadata": {},
   "outputs": [],
   "source": [
    "sql = \"\"\"  select * from student\n",
    "\"\"\""
   ]
  },
  {
   "cell_type": "code",
   "execution_count": 38,
   "id": "b3490b4b",
   "metadata": {},
   "outputs": [
    {
     "name": "stderr",
     "output_type": "stream",
     "text": [
      "/tmp/ipykernel_10982/4213346576.py:1: UserWarning: pandas only supports SQLAlchemy connectable (engine/connection) or database string URI or sqlite3 DBAPI2 connection. Other DBAPI2 objects are not tested. Please consider using SQLAlchemy.\n",
      "  df = pandas.read_sql_query( sql ,conn)\n"
     ]
    },
    {
     "data": {
      "text/html": [
       "<div>\n",
       "<style scoped>\n",
       "    .dataframe tbody tr th:only-of-type {\n",
       "        vertical-align: middle;\n",
       "    }\n",
       "\n",
       "    .dataframe tbody tr th {\n",
       "        vertical-align: top;\n",
       "    }\n",
       "\n",
       "    .dataframe thead th {\n",
       "        text-align: right;\n",
       "    }\n",
       "</style>\n",
       "<table border=\"1\" class=\"dataframe\">\n",
       "  <thead>\n",
       "    <tr style=\"text-align: right;\">\n",
       "      <th></th>\n",
       "      <th>s_email</th>\n",
       "      <th>s_name</th>\n",
       "      <th>major</th>\n",
       "    </tr>\n",
       "  </thead>\n",
       "  <tbody>\n",
       "    <tr>\n",
       "      <th>0</th>\n",
       "      <td>s1@jmu.edu</td>\n",
       "      <td>s1</td>\n",
       "      <td>IA</td>\n",
       "    </tr>\n",
       "    <tr>\n",
       "      <th>1</th>\n",
       "      <td>s2@jmu.edu</td>\n",
       "      <td>s2</td>\n",
       "      <td>IA</td>\n",
       "    </tr>\n",
       "    <tr>\n",
       "      <th>2</th>\n",
       "      <td>s3@jmu.edu</td>\n",
       "      <td>s3</td>\n",
       "      <td>ISAT</td>\n",
       "    </tr>\n",
       "    <tr>\n",
       "      <th>3</th>\n",
       "      <td>s4@jmu.edu</td>\n",
       "      <td>s4</td>\n",
       "      <td>ISAT</td>\n",
       "    </tr>\n",
       "  </tbody>\n",
       "</table>\n",
       "</div>"
      ],
      "text/plain": [
       "      s_email s_name major\n",
       "0  s1@jmu.edu     s1    IA\n",
       "1  s2@jmu.edu     s2    IA\n",
       "2  s3@jmu.edu     s3  ISAT\n",
       "3  s4@jmu.edu     s4  ISAT"
      ]
     },
     "execution_count": 38,
     "metadata": {},
     "output_type": "execute_result"
    }
   ],
   "source": [
    "df = pandas.read_sql_query( sql ,conn)\n",
    "\n",
    "df[:]"
   ]
  },
  {
   "cell_type": "code",
   "execution_count": 39,
   "id": "2652cd98",
   "metadata": {},
   "outputs": [],
   "source": [
    "cur = conn.cursor()"
   ]
  },
  {
   "cell_type": "code",
   "execution_count": 40,
   "id": "1690767d",
   "metadata": {},
   "outputs": [
    {
     "name": "stdout",
     "output_type": "stream",
     "text": [
      " \n",
      "     insert into student(s_email,s_name,major)\n",
      "     values('s5@jmu.edu','s3','IA')\n",
      "     \n"
     ]
    }
   ],
   "source": [
    "sql = ''' \n",
    "     insert into student(s_email,s_name,major)\n",
    "     values('{}','{}','{}')\n",
    "     '''.format('s5@jmu.edu','s3','IA')\n",
    "print(sql)"
   ]
  },
  {
   "cell_type": "code",
   "execution_count": 41,
   "id": "1d5a3ce9",
   "metadata": {},
   "outputs": [],
   "source": [
    "cur.execute(sql)"
   ]
  },
  {
   "cell_type": "code",
   "execution_count": 42,
   "id": "9d27d75b",
   "metadata": {},
   "outputs": [],
   "source": [
    "conn.commit()"
   ]
  },
  {
   "cell_type": "code",
   "execution_count": 43,
   "id": "d0da8180",
   "metadata": {},
   "outputs": [],
   "source": [
    "cur.close()"
   ]
  },
  {
   "cell_type": "code",
   "execution_count": 44,
   "id": "1561ed82",
   "metadata": {},
   "outputs": [],
   "source": [
    "conn.close()"
   ]
  },
  {
   "cell_type": "code",
   "execution_count": null,
   "id": "38271ad2",
   "metadata": {},
   "outputs": [],
   "source": []
  }
 ],
 "metadata": {
  "kernelspec": {
   "display_name": "conda_python3",
   "language": "python",
   "name": "conda_python3"
  },
  "language_info": {
   "codemirror_mode": {
    "name": "ipython",
    "version": 3
   },
   "file_extension": ".py",
   "mimetype": "text/x-python",
   "name": "python",
   "nbconvert_exporter": "python",
   "pygments_lexer": "ipython3",
   "version": "3.10.12"
  }
 },
 "nbformat": 4,
 "nbformat_minor": 5
}
